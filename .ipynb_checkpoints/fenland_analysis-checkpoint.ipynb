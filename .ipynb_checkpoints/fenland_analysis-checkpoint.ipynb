{
 "cells": [
  {
   "cell_type": "markdown",
   "metadata": {},
   "source": [
    "# Fenland Analysis Script\n",
    "\n",
    "## 1. Importing dependencies"
   ]
  },
  {
   "cell_type": "code",
   "execution_count": 78,
   "metadata": {},
   "outputs": [],
   "source": [
    "import os\n",
    "import tempfile\n",
    "from glob import glob\n",
    "import pandas as pd\n",
    "import numpy as np\n",
    "from collections import defaultdict\n",
    "\n",
    "from hypnospy import Wearable, Diary\n",
    "from hypnospy.data import RawProcessing\n",
    "from hypnospy.analysis import NonWearingDetector, SleepBoudaryDetector, Validator, Viewer, PhysicalActivity,SleepMetrics\n",
    "from hypnospy import Experiment"
   ]
  },
  {
   "cell_type": "markdown",
   "metadata": {},
   "source": [
    "## 2. Setting up the experiment\n",
    "\n",
    "Using Fenland-specific data pre-processing"
   ]
  },
  {
   "cell_type": "code",
   "execution_count": 24,
   "metadata": {},
   "outputs": [],
   "source": [
    "def load_experiment(data_path, start_hour):\n",
    "\n",
    "    # Configure the Experiment\n",
    "    exp = Experiment()\n",
    "\n",
    "    # Iterates over a set of files in a directory.\n",
    "    for file in glob(data_path):\n",
    "        pp = RawProcessing(file,\n",
    "                           # HR information\n",
    "                           col_for_hr=\"mean_hr\",\n",
    "                           # Activity information\n",
    "                           cols_for_activity=[\"stdMET_highIC_Branch\"],\n",
    "                           is_act_count=False,\n",
    "                           device_location=\"dw\",\n",
    "                           # Datetime information\n",
    "                           col_for_datetime=\"real_time\",\n",
    "                           strftime=\"%d-%m-%Y %H:%M:%S\",#'2012-09-03 10:55:00'\n",
    "                           # Participant information\n",
    "                           col_for_pid=\"id\")\n",
    "        #pp.data[\"hyp_act_x\"] = (pp.data[\"hyp_act_x\"]/0.0060321) + 0.057 # adjust for Fenland\n",
    "\n",
    "        w = Wearable(pp)  # Creates a wearable from a pp object\n",
    "        exp.add_wearable(w)\n",
    "\n",
    "    # Set frequency for every wearable in the collection\n",
    "    exp.set_freq_in_secs(60)\n",
    "\n",
    "    # Changing the hour the experiment starts from midnight (0) to 3pm (15)\n",
    "    exp.change_start_hour_for_experiment_day(start_hour)\n",
    "\n",
    "    return exp"
   ]
  },
  {
   "cell_type": "markdown",
   "metadata": {},
   "source": [
    "## 3. Defining the data path, hyperparameters and cutoffs"
   ]
  },
  {
   "cell_type": "code",
   "execution_count": 25,
   "metadata": {},
   "outputs": [],
   "source": [
    "# Path to find the wearables data\n",
    "data_path = \"./data/small_collection_fenland_full/*.csv\"\n",
    "\n",
    "# Parameters for the HypnosPy HR-based sleep algorithm\n",
    "hr_quantile = 0.40\n",
    "hr_min_window_length = 35\n",
    "hr_merge_blocks = 180\n",
    "\n",
    "hr_volarity = 6\n",
    "#Time to consider as start and end of each experiment day - if equal the sleep labelling occurs\n",
    "#over the entire 24 hours\n",
    "start_hour = 20\n",
    "end_hour = 20\n",
    "\n",
    "#Giving the experiment a number\n",
    "exp_id = 0\n",
    "\n",
    "#Set the PA cutoffs - in METs, with names being the binary columns created to label each epoch\n",
    "cutoffs=[1.5,3,6]\n",
    "names=['Sed','LPA','MPA','VPA']"
   ]
  },
  {
   "cell_type": "markdown",
   "metadata": {},
   "source": [
    "## 4. Running the experiment\n",
    "\n",
    "1. Loading\n",
    "2. Validating\n",
    "3. Sleep Labelling\n",
    "4. Physical Activity Labelling\n",
    "\n",
    "To Do:\n",
    "- get sleep metrics (SE, awakenings, SRI from SleepMetrics)"
   ]
  },
  {
   "cell_type": "code",
   "execution_count": 26,
   "metadata": {},
   "outputs": [
    {
     "name": "stdout",
     "output_type": "stream",
     "text": [
      "Removed 0 days (non wearing).\n",
      "Removed 0 wearables.\n"
     ]
    }
   ],
   "source": [
    "exp = load_experiment(data_path, start_hour)\n",
    "exp.fill_no_activity(-0.0001)\n",
    "\n",
    "va = Validator(exp)\n",
    "\n",
    "# Flag times with less activity than set threshold, or non-wearing periods\n",
    "va.flag_epoch_physical_activity_less_than(min_activity_threshold=0)\n",
    "va.flag_epoch_null_cols(col_list=[\"hyp_act_x\"])\n",
    "va.flag_day_max_nonwearing(max_non_wear_minutes_per_day=60)\n",
    "\n",
    "va.flag_day_if_invalid_epochs_larger_than(max_invalid_minutes_per_day=60)\n",
    "\n",
    "# Accounting for removed days and subjects (referred to as wearables)\n",
    "n_removed_days = va.remove_flagged_days()\n",
    "print(\"Removed %d days (non wearing).\" % n_removed_days)\n",
    "n_users = va.remove_wearables_without_valid_days()\n",
    "print(\"Removed %d wearables.\" % n_users)\n",
    "\n",
    "sbd = SleepBoudaryDetector(exp)\n",
    "\n",
    "sbd.detect_sleep_boundaries(strategy=\"hr\", output_col=\"hyp_sleep_period_hr\", hr_quantile=hr_quantile,\n",
    "                                hr_volarity_threshold=hr_volarity, hr_rolling_win_in_minutes=5,\n",
    "                                hr_sleep_search_window=(start_hour, end_hour),\n",
    "                                hr_min_window_length_in_minutes=hr_min_window_length,\n",
    "                                hr_volatility_window_in_minutes=10, hr_merge_blocks_gap_time_in_min=hr_merge_blocks,\n",
    "                                hr_sleep_only_in_sleep_search_window=True, hr_only_largest_sleep_period=True)\n",
    "\n",
    "cutoffs=[1.5,3,6]\n",
    "names=['Sed','LPA','MPA','VPA']\n",
    "\n",
    "pa = PhysicalActivity(exp)\n",
    "\n",
    "pa.set_cutoffs(cutoffs=cutoffs,names=names)\n",
    "pa.generate_pa_columns(based_on='hyp_act_x')"
   ]
  },
  {
   "attachments": {},
   "cell_type": "markdown",
   "metadata": {},
   "source": [
    "## 5. Population Analysis\n",
    "\n",
    "1. Creates dict with all data\n",
    "2. Extracts statistics from pop dict into pop_df dataframe\n",
    "\n",
    "### To Do:\n",
    "- put sleep metrics into the population analysis\n",
    "- bin subjects by TST according to analysis plan (below)\n",
    "- creates tables and graphs from pop_df\n",
    "\n",
    "### Analysis Plan:\n",
    "\t1. Subjects who are more physically active have higher TST, higher SE, higher SRI and lower WASO\n",
    "\t\t\ti. Physical activity binned into: \n",
    "\t\t\t\t1) 0-300, 300-600, 600-900, 900+ METmins per week (multiply daily average by 7) OR\n",
    "\t\t\t\t2) 0-100, 100-200, 200-300, 300+ MVPA per week (multiply daily average by 7)\n",
    "\t\t\tii. Then average all the sleep metrics over these bins and test for statistically significant differences\n",
    "\t\t\tiii. Would produce 2 tables: METmins vs sleep metrics & MVPA vs sleep metrics\n",
    "\t2. Subjects with higher sleep quality are healthier\n",
    "\t\t\ti. Sleep metrics:\n",
    "\t\t\t\t1) TST binned into hourly intervals (eg. those sleeping <5, 5-6,6-7,7-8,8+ hours/night on average)\n",
    "\t\t\t\t2) SRI binned into quartiles\n",
    "\t\t\tii. Then average the METmins per week for these bins, BMI and also OR for having a cardiovascular disease\n",
    "\t\t\tiii. Would produce 2 tables: TST vs PA, BMI, disease status & SRI vs PA, BMI, disease status"
   ]
  },
  {
   "cell_type": "code",
   "execution_count": 77,
   "metadata": {},
   "outputs": [
    {
     "name": "stdout",
     "output_type": "stream",
     "text": [
      "       sex        BMI age    tst_mean     tst_std   LPA_daily MPA_weekly  \\\n",
      "dummy1   0  18.116276  48       395.5  181.116261   58.428571       34.0   \n",
      "dummy2   1  26.023427  29      435.25  164.817829        74.4       30.8   \n",
      "dummy3   0  25.059307  31  544.166667  112.762435        87.0       94.5   \n",
      "dummy4   1  26.023427  29      435.25  164.817829        74.4       30.8   \n",
      "dummy5   1   26.97404  52  508.333333  125.463408  117.285714      191.0   \n",
      "\n",
      "       VPA_weekly MVPA_weekly METmins_weekly  \n",
      "dummy1        0.0        34.0     845.068672  \n",
      "dummy2        0.0        30.8     517.243873  \n",
      "dummy3      2.625      97.125    3510.096365  \n",
      "dummy4        0.0        30.8     517.243873  \n",
      "dummy5        4.0       195.0    5363.642738  \n"
     ]
    }
   ],
   "source": [
    "pop = defaultdict()\n",
    "\n",
    "for w in exp.wearables:\n",
    "    pop[w] = {}\n",
    "    pop[w]['tst'] = exp.wearables[w].get_total_sleep_time_per_day(sleep_col=\"hyp_sleep_period_hr\")\n",
    "    pop[w]['onset'] = exp.wearables[w].get_onset_sleep_time_per_day(sleep_col=\"hyp_sleep_period_hr\")\n",
    "    pop[w]['offset'] = exp.wearables[w].get_offset_sleep_time_per_day(sleep_col=\"hyp_sleep_period_hr\")\n",
    "    pop[w]['height'] = exp.wearables[w].data['height'][0]\n",
    "    pop[w]['weight'] = exp.wearables[w].data['weight'][0]\n",
    "    pop[w]['BMI'] = pop[w]['weight'] / (pop[w]['height']**2)\n",
    "    pop[w]['sex'] = exp.wearables[w].data['sex'][0]\n",
    "    pop[w]['age'] = exp.wearables[w].data['age'][0]\n",
    "    pop[w]['Sed'] = exp.wearables[w].data.groupby(exp.wearables[w].get_experiment_day_col())['Sed'].sum()\n",
    "    pop[w]['LPA'] = exp.wearables[w].data.groupby(exp.wearables[w].get_experiment_day_col())['LPA'].sum()\n",
    "    pop[w]['MPA'] = exp.wearables[w].data.groupby(exp.wearables[w].get_experiment_day_col())['MPA'].sum()\n",
    "    pop[w]['VPA'] = exp.wearables[w].data.groupby(exp.wearables[w].get_experiment_day_col())['VPA'].sum()\n",
    "    pop[w]['METmins_MPA'] = exp.wearables[w].data[exp.wearables[w].data['MPA']]['hyp_act_x'].sum()\n",
    "    pop[w]['METmins_VPA'] = exp.wearables[w].data[exp.wearables[w].data['VPA']]['hyp_act_x'].sum()\n",
    "    pop[w]['METmins_total'] = pop[w]['METmins_MPA'] + pop[w]['METmins_VPA']\n",
    "    \n",
    "    #Exclude exp_days with <150 mins of sleep\n",
    "    pop[w]['tst_mean'] = pop[w]['tst'][pop[w]['tst']['hyp_sleep_period_hr']>150].mean()[0]\n",
    "    pop[w]['tst_std'] = pop[w]['tst'][pop[w]['tst']['hyp_sleep_period_hr']>150].std()[0]\n",
    "    pop[w]['LPA_daily'] = pop[w]['LPA'].mean()\n",
    "    pop[w]['MPA_weekly'] = pop[w]['MPA'].mean()*7\n",
    "    pop[w]['VPA_weekly'] = pop[w]['VPA'].mean()*7\n",
    "    pop[w]['MVPA_weekly'] = (pop[w]['MPA'].mean() + pop[w]['VPA'].mean())*7\n",
    "    pop[w]['METmins_weekly'] = pop[w]['METmins_total'].mean()*7\n",
    "         \n",
    "#print(pop['dummy5'].items())\n",
    "\n",
    "\n",
    "df_cols = ['sex','BMI','age','tst_mean','tst_std',\n",
    "           'LPA_daily','MPA_weekly','VPA_weekly','MVPA_weekly','METmins_weekly']\n",
    "\n",
    "pop_df = pd.DataFrame(columns=df_cols)\n",
    "for w in exp.wearables:\n",
    "    for col in df_cols:\n",
    "        pop_df.loc[w,col] = pop[w][col]\n",
    "print(pop_df)"
   ]
  }
 ],
 "metadata": {
  "kernelspec": {
   "display_name": "Python 3",
   "language": "python",
   "name": "python3"
  },
  "language_info": {
   "codemirror_mode": {
    "name": "ipython",
    "version": 3
   },
   "file_extension": ".py",
   "mimetype": "text/x-python",
   "name": "python",
   "nbconvert_exporter": "python",
   "pygments_lexer": "ipython3",
   "version": "3.7.6"
  }
 },
 "nbformat": 4,
 "nbformat_minor": 4
}
